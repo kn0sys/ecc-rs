{
 "cells": [
  {
   "cell_type": "markdown",
   "metadata": {},
   "source": [
    "# Elliptic curve cryptography \n",
    "## Tutorial/playground (part 3)"
   ]
  },
  {
   "cell_type": "code",
   "execution_count": null,
   "metadata": {},
   "outputs": [],
   "source": [
    "extern crate kn0syseccrs as ecc;\n",
    "extern crate num;\n",
    "extern crate hex;"
   ]
  },
  {
   "cell_type": "markdown",
   "metadata": {},
   "source": [
    "Unlike part 1 and part 2 tutorials, this tutorial is not much about\n",
    "the elliptic curve stuff. \n",
    "\n",
    "Instead, this is about proving systems.proving systems involves two characters: Prover and Verifier.\n",
    "\n",
    "Prover has a secret and he must convince the Verifier about facts regarding the secret, WITHOUT revealing the secret.\n",
    "\n",
    "There are two \"versions\" of proving systems: interactive and non-interactive.\n",
    "* interactive\n",
    "    * in the interactive version, Verifier is involved *during* the creation of full proof by Prover.\n",
    "    * in cryptography papers, it is the interactive version hat is usually presented.\n",
    "* non-interactive\n",
    "    * in the non-interactive version, the full proof is created by Prover alone, and Verifier will only verify the full proof. \n",
    "    * in actual implementations of cryptography, it is the non-interactive version that is usually implemented. we'll cover both here."
   ]
  },
  {
   "cell_type": "markdown",
   "metadata": {},
   "source": [
    "### Exercise: implement Schnorr protocol"
   ]
  },
  {
   "cell_type": "markdown",
   "metadata": {},
   "source": [
    "read more: https://en.wikipedia.org/wiki/Proof_of_knowledge#Schnorr_protocol\n",
    "\n",
    "note: the wiki uses \"multiplicative notation\" for the group binary operation\n",
    "\n",
    "(more common overall), but these tutorials (and Monero resources) use\n",
    "\n",
    "\"additive notation\" (more commonly seen when dealing with elliptic curves)"
   ]
  },
  {
   "cell_type": "markdown",
   "metadata": {},
   "source": [
    "Schnorr protocol is among the simplest proving system currently used!\n",
    "\n",
    "here's the scenario:\n",
    "* Prover has a secret scalar x. he sends the commitment `P = xG` to Verifier.\n",
    "* by the Discrete Logarithm (DL) assumption (see part 1), Verifier will not be able to crack the value of x.\n",
    "* however the Verifier still wants to be convinced that the Prover really knows x. How would the Prover do that?\n",
    "\n",
    "Schnorr protocol allows Prover to do this!\n"
   ]
  },
  {
   "cell_type": "markdown",
   "metadata": {},
   "source": [
    "### interactive"
   ]
  },
  {
   "cell_type": "code",
   "execution_count": null,
   "metadata": {},
   "outputs": [],
   "source": [
    "struct SchnorrProof {\n",
    "   g: ecc::Point,\n",
    "   p: ecc::Point,\n",
    "   c: ecc::Scalar,\n",
    "   q: ecc::ScalarPoint,\n",
    "   s: ecc::Scalar\n",
    "}\n",
    "\n",
    "impl SchnorrProof {\n",
    "    /**\n",
    "    * Use SchnorrProof::init(scalar, point) to create a new proof\n",
    "    */\n",
    "    fn init(x: ecc::Scalar, p: ecc::Point) {\n",
    "      // we won't store the secret x here\n",
    "        \n",
    "      // let q = rg.\n",
    "\n",
    "      // <-     code here       ->\n",
    "      \n",
    "      // now Prover would send P and Q to Verifier.\n",
    "      // once Verifier receives P and Q, she gives\n",
    "      // an interactive challenge c to Prover.\n",
    "      let c = ecc::Scalar::random().unwrap();\n",
    "\n",
    "      // once Prover received the challenge c, let s = r + c * x.\n",
    "      \n",
    "      // <-     code here       ->\n",
    "\n",
    "      // Prover would send s to Verifier. This completes the full proof.\n",
    "   }\n",
    "\n",
    "    /**\n",
    "     * once Verifier receives the full proof, she can now verify it.\n",
    "     */\n",
    "     fn verify() {\n",
    "        // return s *g == q + c * p\n",
    "\n",
    "        // <-     code here       ->\n",
    "\n",
    "     }\n",
    "}"
   ]
  },
  {
   "cell_type": "markdown",
   "metadata": {},
   "source": [
    "### non-interactive"
   ]
  },
  {
   "cell_type": "code",
   "execution_count": null,
   "metadata": {},
   "outputs": [],
   "source": [
    "struct NISchnorrProof {\n",
    "    g: ecc::Point,\n",
    "    p: ecc::Point,\n",
    "    q: ecc::Scalar,\n",
    "    s: eccLLScalar\n",
    "}\n",
    "\n",
    "impl NISchnorrProof {\n",
    "    /**\n",
    "    * Use SchnorrProof.init(scalar, point) to create a new proof\n",
    "    */\n",
    "    fn init(x: ecc::Scalar, p: ecc::Point) {\n",
    "        // we won't store the secret x here\n",
    "\n",
    "        // let r be a random scalar (don't store it though)\n",
    "        // let q = rg.\n",
    "\n",
    "        // <-     code here       ->\n",
    "        \n",
    "        /* Unlike in interactive version, Prover must generate the challenge\n",
    "           themself. however, he should not be able to cheat by manipulating the\n",
    "           challenge. hence, the challenge instead should be the hash of the\n",
    "           partial proof data. this trick is called \"Fiat-Shamir heuristic\".\n",
    "           c = hash_to_scalar(\"Schnorr Proof\", p.get_hex_value(), q.toHex())\n",
    "           Not in stored in the proof!\n",
    "         */\n",
    "\n",
    "        // let s = r + c * x.\n",
    "        \n",
    "        // <-     code here       ->\n",
    "\n",
    "        // now Prover would send the full proof (p, q, s) to Verifier.\n",
    "\n",
    "    }\n",
    "\n",
    "    /**\n",
    "     * once Verifier receives the full proof, she can now verify it.\n",
    "     */\n",
    "     fn verify() {\n",
    "        //  s * g == q + hash_to_scalar(\"Schnorr Proof\", p, q) * p\n",
    "\n",
    "        // <-     code here       ->\n",
    "     }\n",
    "}"
   ]
  },
  {
   "cell_type": "markdown",
   "metadata": {},
   "source": [
    "### Testing"
   ]
  },
  {
   "cell_type": "markdown",
   "metadata": {},
   "source": [
    "```rust\n",
    "\n",
    "//test 1 (should work)\n",
    "let prvkey = ecc::Scalar::random().unwrap();\n",
    "let pubkey = ecc::G.clone();\n",
    "const proof1 = SchnorrProof::init(prvkey, pubkey);\n",
    "// also try NISchnorrProof\n",
    "if proof1::verify() {\n",
    "    println!(\"Proof1 Verified!\");\n",
    "} else {\n",
    "    println!(\"Something's wrong (T_T)!\");\n",
    "}\n",
    "// test 2 (should NOT work)\n",
    "let prvkey2 = ecc::Scalar::random().unwrap();\n",
    "let s =  ecc::Scalar::new(num::BigInt::from(1)).unwrap();\n",
    "let s2 = prvkey2 + s;\n",
    "let pubkey2 = ecc::Point::G.clone() * s2;\n",
    "let proof2 = SchnorrProof::init(prvkey2, pubkey2);\n",
    "// also try NISchnorrProof\n",
    "if proof2::verify() {\n",
    "    println!(\"Proof2 Verified!\");\n",
    "} else {\n",
    "    println!(\"Something's wrong (T_T)!\")\n",
    "}\n",
    "```"
   ]
  }
 ],
 "metadata": {
  "interpreter": {
   "hash": "e7370f93d1d0cde622a1f8e1c04877d8463912d04d973331ad4851f04de6915a"
  },
  "kernelspec": {
   "display_name": "Rust",
   "language": "rust",
   "name": "rust"
  },
  "language_info": {
   "codemirror_mode": "rust",
   "file_extension": ".rs",
   "mimetype": "text/rust",
   "name": "Rust",
   "pygment_lexer": "rust",
   "version": ""
  }
 },
 "nbformat": 4,
 "nbformat_minor": 4
}
