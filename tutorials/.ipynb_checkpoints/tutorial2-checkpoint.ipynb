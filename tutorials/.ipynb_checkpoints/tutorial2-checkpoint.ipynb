{
 "cells": [
  {
   "cell_type": "markdown",
   "id": "8254b45d-70bf-4164-a329-e88bd97b064b",
   "metadata": {},
   "source": [
    "# Elliptic curve cryptography \n",
    "## Tutorial2"
   ]
  },
  {
   "cell_type": "code",
   "execution_count": null,
   "id": "b11bf258-b7da-4c78-8511-e4d20cc6d5cf",
   "metadata": {},
   "outputs": [],
   "source": [
    "extern crate kn0syseccrs as ecc;\n",
    "extern crate num;\n",
    "extern crate hex;"
   ]
  },
  {
   "cell_type": "markdown",
   "id": "f3c29bc9-3927-42de-80de-b953b496ccff",
   "metadata": {},
   "source": [
    "> this is about vectors of scalars (ScalarVector) and of points (PointVector).\n",
    "   we can think of a vector as an array of data."
   ]
  },
  {
   "cell_type": "code",
   "execution_count": null,
   "id": "15bf46c1-049c-49d8-b6a1-ec4c7e273690",
   "metadata": {},
   "outputs": [],
   "source": [
    "let mut v1: Vec<num::BigInt> = Vec::new();\n",
    "let mut v2: Vec<num::BigInt> = Vec::new();\n",
    "for i in 1..7 {\n",
    "    if i < 4 {\n",
    "        v1.push(num::BigInt::from(i));\n",
    "    } else {\n",
    "        v2.push(num::BigInt::from(i));\n",
    "    }\n",
    "}\n",
    "let sv1 = ecc::ScalarVector::new(v1);\n",
    "let sv2 = ecc::ScalarVector::new(v2);\n",
    "println!(\"sv1: {:?}\", sv1.unwrap());\n",
    "println!(\"sv2: {:?}\", sv2.unwrap());"
   ]
  },
  {
   "cell_type": "markdown",
   "id": "56624fb8-0f25-43b4-85b3-580f9c4af8a1",
   "metadata": {},
   "source": [
    "## Scalar Vector Addition"
   ]
  },
  {
   "cell_type": "code",
   "execution_count": null,
   "id": "1b6f9478-710e-4575-9a93-32e8be021abc",
   "metadata": {},
   "outputs": [],
   "source": [
    "let mut v1: Vec<num::BigInt> = Vec::new();\n",
    "let mut v2: Vec<num::BigInt> = Vec::new();\n",
    "for i in 1..7 {\n",
    "    if i < 4 {\n",
    "        v1.push(num::BigInt::from(i));\n",
    "    } else {\n",
    "        v2.push(num::BigInt::from(i));\n",
    "    }\n",
    "}\n",
    "let sv1 = ecc::ScalarVector::new(v1);\n",
    "let sv2 = ecc::ScalarVector::new(v2);\n",
    "let sv3 = sv1.unwrap() + sv2.unwrap();\n",
    "println!(\"sv1 + sv2 =  {:?}\", sv3.unwrap());"
   ]
  },
  {
   "cell_type": "markdown",
   "id": "ef8080f8-46d0-4fee-aee4-c39d9b239ef6",
   "metadata": {},
   "source": [
    "## Scalar Vector Subtraction"
   ]
  },
  {
   "cell_type": "code",
   "execution_count": null,
   "id": "0d325907-e99e-4892-8570-1c6d9cb0f3ef",
   "metadata": {},
   "outputs": [],
   "source": [
    "let mut v1: Vec<num::BigInt> = Vec::new();\n",
    "let mut v2: Vec<num::BigInt> = Vec::new();\n",
    "for i in 1..7 {\n",
    "    if i < 4 {\n",
    "        v1.push(num::BigInt::from(i));\n",
    "    } else {\n",
    "        v2.push(num::BigInt::from(i));\n",
    "    }\n",
    "}\n",
    "let sv1 = ecc::ScalarVector::new(v1);\n",
    "let sv2 = ecc::ScalarVector::new(v2);\n",
    "let sv3 = sv1.unwrap() - sv2.unwrap();\n",
    "println!(\"sv1 - sv2 =  {:?}\", sv3.unwrap());"
   ]
  },
  {
   "cell_type": "markdown",
   "id": "c1323fe7-df61-4224-b722-2c1879ad3654",
   "metadata": {},
   "source": [
    "## Scalar Vector Multiplication"
   ]
  },
  {
   "cell_type": "code",
   "execution_count": null,
   "id": "61b7b407-a080-4eb7-a800-a2275888ac96",
   "metadata": {},
   "outputs": [],
   "source": [
    "let mut v1: Vec<num::BigInt> = Vec::new();\n",
    "let mut v2: Vec<num::BigInt> = Vec::new();\n",
    "for i in 1..7 {\n",
    "    if i < 4 {\n",
    "        v1.push(num::BigInt::from(i));\n",
    "    } else {\n",
    "        v2.push(num::BigInt::from(i));\n",
    "    }\n",
    "}\n",
    "let sv1 = ecc::ScalarVector::new(v1);\n",
    "let sv2 = ecc::ScalarVector::new(v2);\n",
    "let sv3 = sv1.unwrap() * sv2.unwrap();\n",
    "println!(\"sv1 * sv2 =  {:?}\", sv3.unwrap());"
   ]
  },
  {
   "cell_type": "markdown",
   "id": "04cdfc79-3487-42a5-af35-194884f67088",
   "metadata": {},
   "source": [
    "## Sum of all"
   ]
  },
  {
   "cell_type": "code",
   "execution_count": null,
   "id": "3886baa2-ee21-40af-976a-3b39640952f8",
   "metadata": {},
   "outputs": [],
   "source": [
    "let mut v1: Vec<num::BigInt> = Vec::new();\n",
    "for i in 1..7 {\n",
    "    if i < 4 {\n",
    "        v1.push(num::BigInt::from(i));\n",
    "    }\n",
    "}\n",
    "let sv1 = ecc::ScalarVector::new(v1);\n",
    "println!(\"sv1 sum of all = {:?}\", sv1.unwrap().sum_of_all());"
   ]
  },
  {
   "cell_type": "markdown",
   "id": "9732ac7d-fa6b-4791-a595-f6e9727fbb95",
   "metadata": {},
   "source": [
    "## Scalar Vector Negation"
   ]
  },
  {
   "cell_type": "code",
   "execution_count": null,
   "id": "bd70728a-4e9a-4674-8990-e41509b44caa",
   "metadata": {},
   "outputs": [],
   "source": [
    "let mut v1: Vec<num::BigInt> = Vec::new();\n",
    "for i in 1..7 {\n",
    "    if i < 4 {\n",
    "        v1.push(num::BigInt::from(i));\n",
    "    }\n",
    "}\n",
    "let sv1 = ecc::ScalarVector::new(v1);\n",
    "println!(\"sv1 neg = {:?}\", -sv1.unwrap());"
   ]
  },
  {
   "cell_type": "markdown",
   "id": "9fce6103-4ce7-43d0-9a1e-660a42dbf331",
   "metadata": {},
   "source": [
    "## Scalar Vector Dot Product x1 ** x2"
   ]
  },
  {
   "cell_type": "code",
   "execution_count": null,
   "id": "9e1bdf29-8699-45ef-858f-2cf24b303477",
   "metadata": {},
   "outputs": [],
   "source": [
    "let mut v1: Vec<num::BigInt> = Vec::new();\n",
    "let mut v2: Vec<num::BigInt> = Vec::new();\n",
    "for i in 1..7 {\n",
    "    if i < 4 {\n",
    "        v1.push(num::BigInt::from(i));\n",
    "    } else {\n",
    "        v2.push(num::BigInt::from(i));\n",
    "    }\n",
    "}\n",
    "let sv1 = ecc::ScalarVector::new(v1);\n",
    "let sv2 = ecc::ScalarVector::new(v2);\n",
    "let sv3 = sv1.unwrap().pow(sv2.unwrap());\n",
    "println!(\"sv1 ** sv2 =  {:?}\", sv3.unwrap());"
   ]
  },
  {
   "cell_type": "markdown",
   "id": "4225d273-6e22-49b2-9954-b9c2909d2a1d",
   "metadata": {},
   "source": [
    "## Point Vector Operations"
   ]
  },
  {
   "cell_type": "code",
   "execution_count": null,
   "id": "a488f29d-0454-4e56-b81d-6ab5a037c9db",
   "metadata": {},
   "outputs": [],
   "source": [
    "// addition\n",
    "let mut v1: Vec<ecc::Point> = Vec::new();\n",
    "let mut v2: Vec<ecc::Point> = Vec::new();\n",
    "for i in 1..7 {\n",
    "    if i < 4 {\n",
    "        v1.push((ecc::G.clone() * ecc::Scalar::new(num::BigInt::from(i)).unwrap()).unwrap());\n",
    "    } else {\n",
    "        v2.push((ecc::G.clone() * ecc::Scalar::new(num::BigInt::from(i)).unwrap()).unwrap());\n",
    "    }\n",
    "}\n",
    "let pv1 = ecc::PointVector::new(v1);\n",
    "let pv2 = ecc::PointVector::new(v2);\n",
    "let pv3 = pv1.unwrap() + pv2.unwrap();\n",
    "println!(\"pv1 + pv2 = {:?}\", pv3.unwrap());"
   ]
  },
  {
   "cell_type": "code",
   "execution_count": null,
   "id": "852e9141-3d48-41b6-8c1a-22b7ab4baf9c",
   "metadata": {},
   "outputs": [],
   "source": [
    "// Multiscalar multiplication Scalar Vector ** Point Vector\n",
    "let mut v2: Vec<ecc::Point> = Vec::new();\n",
    "let mut b1: Vec<num::BigInt> = Vec::new();\n",
    "let mut b1_copy: Vec<num::BigInt> = Vec::new();\n",
    "let mut b2: Vec<num::BigInt> = Vec::new();\n",
    "for i in 1..7 {\n",
    "    if i < 4 {\n",
    "        b1.push(num::BigInt::from(i));\n",
    "        b1_copy.push(num::BigInt::from(i));\n",
    "    } else {\n",
    "        v2.push((ecc::G.clone() * ecc::Scalar::new(num::BigInt::from(i)).unwrap()).unwrap());\n",
    "        b2.push(num::BigInt::from(i));\n",
    "    }\n",
    "}\n",
    "let pv2 = ecc::PointVector::new(v2);\n",
    "let sv1 = ecc::ScalarVector::new(b1);\n",
    "let sv1_copy = ecc::ScalarVector::new(b1_copy);\n",
    "let sv2 = ecc::ScalarVector::new(b2);\n",
    "let p = sv1.unwrap().pow(sv2.unwrap());\n",
    "let expected = ecc::G.clone() * p.unwrap();\n",
    "let actual = pv2.unwrap().multiexp(sv1_copy.unwrap());\n",
    "println!(\"expected: {:?}\", expected.unwrap());\n",
    "println!(\"actual: {:?}\", actual.unwrap());"
   ]
  },
  {
   "cell_type": "markdown",
   "id": "d339e8b2-930a-4fad-884a-1d000d928bba",
   "metadata": {},
   "source": [
    "#### please read lib.rs code for better understanding of PointVector.\n",
    "\n",
    "#### Exercise: implement Shamir secret sharing\n",
    "read more: https://en.wikipedia.org/wiki/Shamir%27s_Secret_Sharing\n",
    "\n",
    "here's the scenario:\n",
    "* You know a secret. you call n other people (which we call 'players').\n",
    "* You must give each player a \"partial key\" so that exactly m people (with m <= n)\n",
    "* It is required to recover the secret. How would you do that?\n",
    "\n",
    "#### Shamir secret sharing allows you to do this!\n",
    "\n",
    "#### here's the actual secret. the players must not know this (until recovery at least)\n",
    "\n",
    "```rust\n",
    "let acutal_secret: Scalar = ecc::Scalar::new(num::BigInt::from(123456789)).unwrap();\n",
    "```"
   ]
  },
  {
   "cell_type": "markdown",
   "id": "12131fec-fe43-407a-967c-a47d202291ff",
   "metadata": {},
   "source": [
    "#### polynomial evaluation poly(x)\n",
    "\n",
    "```rust\n",
    "fn poly_eval(x: ecc::Scalar, coeff: ecc::ScalarVector) -> ecc::Scalar {\n",
    "  let mut powers_x: Vec::<num::BigInt> = Vec::new();\n",
    "  powers_x.push(BigInt(\"1\"));\n",
    "  for (index, bi) in powers_x.inter().enumerate() {\n",
    "    powers_x.push(x[index] * bi);\n",
    "  }\n",
    "  let sv1 = new ecc::ScalarVector::new(powers_x);\n",
    "  return await sv1.pow(coeff);\n",
    "}\n",
    "```\n",
    "\n",
    "* build the secret polynomial: we want m = 3 players to recover the secret\n",
    "* hence len(poly) should be 3, or in other words, degree of polynomial should be 2.\n",
    "* set coeff[0] = actual_secret, and the other coeff must be random scalars.\n",
    "\n",
    "#### note: \n",
    "* coeff[0] corresponds to x ** 0 = 1\n",
    "* coeff[1] corresponds to x ** 1 = x,\n",
    "* coeff[2] corresponds to x ** 2, etc.\n",
    "\n",
    "#### list of n = 5 'players'/x-coord of share coords\n",
    "##### note: Scalar(0) is not allowed in player_list because poly(0) = secret (which leaks the secret)\n",
    "```python\n",
    "player_list = [Scalar(1), Scalar(2), Scalar(3), Scalar(4), Scalar(5)]\n",
    "```\n",
    "\n",
    "#### build all share coords. these are the \"partial keys\" to be sent to the players\n",
    "```rust\n",
    "// player list\n",
    "let mut players_a: Vec<num::BigInt> = Vec::new();\n",
    "struct Coord {\n",
    "  x: ecc::Scalar,\n",
    "  y: ecc::Scalar\n",
    "}\n",
    "let mut all_coords: Vec<Coord> = Vec::new();\n",
    "for in 0..5 {\n",
    "  players_a.push(num::BigInt(i));\n",
    "}\n",
    "let plsv = new ecc::ScalarVector::new(players_a);\n",
    "// poly is a scalar vector of each player's secret key (random scalars)\n",
    "for p in player_list {\n",
    "  let e = poly_eval(p, poly);\n",
    "  const c: Coord = {x:p, y:e};\n",
    "  all_coords.push(c);\n",
    "})\n",
    "```\n",
    "\n",
    "### recover the secret: implement the formula in the following link:\n",
    "https://en.wikipedia.org/wiki/Shamir%27s_Secret_Sharing#Computationally_efficient_approach\n",
    "#### * coords: set of coords for recovery\n",
    "#### note: our \"division\" is (x1 * x2.invert()), NOT (x1 // x2) !!!\n",
    "\n",
    "$$l_0(x) = \\frac{x-x_1}{x_0-x_1} \\cdot \\frac{x-x_2}{x_0-x_2}$$\n",
    "$$l_1(x) = \\frac{x-x_0}{x_1-x_0} \\cdot \\frac{x-x_2}{x_1-x_2}$$\n",
    "$$l_2(x) = \\frac{x-x_0}{x_2-x_0} \\cdot \\frac{x-x_1}{x_2-x_1}$$\n",
    "\n",
    "Therefore:\n",
    "\n",
    "$$f(x) = \\sum_{j=0}^{2} y_{j}\\cdot l_{j}(x)$$\n"
   ]
  },
  {
   "cell_type": "code",
   "execution_count": null,
   "id": "624fa4e8-e484-45d5-9571-0c5e6c59c9a8",
   "metadata": {},
   "outputs": [],
   "source": [
    "// code here"
   ]
  },
  {
   "cell_type": "markdown",
   "id": "b5dffea9-10ef-4fb0-9a36-4be4bd0c7bb7",
   "metadata": {},
   "source": [
    "#### here's a 3 coords to recover secret:\n",
    "\n",
    "#### Experiment: what would happen if \n",
    "\n",
    "1. you change some indexes?\n",
    "2. add/remove coords?\n",
    "\n",
    "```typescript\n",
    "let recovery_coord: Vec<Coord> = [all_coords[1], all_coords[3], all_coords[4]];\n",
    "\n",
    "let recovered_secret = recovery(recovery_coord);\n",
    "let actual = actual_secret.get_hex();\n",
    "let recovered = recovered_secret.get_hex();\n",
    "if (actual === recovered) {\n",
    "  println!(\"Shamir's Secret Sharing implementation recovered { successfully\")\n",
    "}\n",
    "```"
   ]
  }
 ],
 "metadata": {
  "kernelspec": {
   "display_name": "Rust",
   "language": "rust",
   "name": "rust"
  },
  "language_info": {
   "codemirror_mode": "rust",
   "file_extension": ".rs",
   "mimetype": "text/rust",
   "name": "Rust",
   "pygment_lexer": "rust",
   "version": ""
  }
 },
 "nbformat": 4,
 "nbformat_minor": 5
}
