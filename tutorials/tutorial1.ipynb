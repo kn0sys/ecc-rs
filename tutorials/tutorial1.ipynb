{
 "cells": [
  {
   "cell_type": "markdown",
   "id": "96983e2c-5f50-4889-970e-8df506a5d510",
   "metadata": {},
   "source": [
    "# Elliptic curve cryptography \n",
    "\n",
    "## Tutorial 1"
   ]
  },
  {
   "cell_type": "code",
   "execution_count": null,
   "id": "762963ed-ba05-482d-ab71-7715bccb2866",
   "metadata": {},
   "outputs": [],
   "source": [
    "extern crate kn0syseccrs as ecc;\n",
    "extern crate num;\n",
    "extern crate hex;"
   ]
  },
  {
   "cell_type": "markdown",
   "id": "8e836a21-0e08-41df-bae8-4f1aab2a3a24",
   "metadata": {},
   "source": [
    "> Treat an elliptic curve group of points like you do vectors:\n",
    "  you can add/subtract points `(G + H, G - H)` \n",
    "  and you can do scalar multiplication with it `(x * G or xG for short)`.\n",
    " ...and the analogy stops there.\n",
    "\n",
    "> However, we can have a vector/array of scalars and of points (part 2).\n",
    "\n",
    "> Difference #1: The scalars. In vector calculus, scalars are real\n",
    "  numbers. On the other hand, our scalar is integers modulo a large\n",
    "  prime number l. in other words, our scalars are only from 0 to (l - 1)\n",
    " (the remainders when any integer is divided by l).\n",
    "  Here's the l:\n",
    ">\n",
    "> Reference: https://datatracker.ietf.org/doc/html/rfc8032#section-5.1"
   ]
  },
  {
   "cell_type": "code",
   "execution_count": null,
   "id": "18579b0e-7810-42b0-bfb4-0c90077942c0",
   "metadata": {},
   "outputs": [],
   "source": [
    "let big_int = num::BigInt::from_bytes_le(num::bigint::Sign::Plus, &hex::decode(ecc::L).unwrap_or_default());\n",
    "println!(\"L: {:?}\", big_int);\n",
    "println!(\"invalid: {:?}\", ecc::Scalar::new(big_int));"
   ]
  },
  {
   "cell_type": "markdown",
   "id": "481b09ba-adce-42da-a589-a9873cf75a3f",
   "metadata": {},
   "source": [
    "## Scalar Addition"
   ]
  },
  {
   "cell_type": "code",
   "execution_count": null,
   "id": "9d6aa798-5cc6-40e8-9ebb-b34b6a9bad9e",
   "metadata": {},
   "outputs": [],
   "source": [
    "let s1 = ecc::Scalar::new(num::BigInt::from(1)).unwrap();\n",
    "let s1h = ecc::Scalar::new(num::BigInt::from(1)).unwrap().get_hex();\n",
    "let s2 = ecc::Scalar::new(num::BigInt::from(2)).unwrap();\n",
    "let s2h = ecc::Scalar::new(num::BigInt::from(2)).unwrap().get_hex();\n",
    "let result = s1 + s2;\n",
    "println!(\"{:?} + {:?} = {:?}\", s1h, s2h, result.unwrap().get_hex());"
   ]
  },
  {
   "cell_type": "markdown",
   "id": "29f332ed-4f4e-44ce-861e-3864dd4f3be9",
   "metadata": {},
   "source": [
    "## Scalar Subtraction"
   ]
  },
  {
   "cell_type": "code",
   "execution_count": null,
   "id": "b49ab152-b69a-4890-acfa-69ca890cdb83",
   "metadata": {},
   "outputs": [],
   "source": [
    "let s1 = ecc::Scalar::new(num::BigInt::from(1)).unwrap();\n",
    "let s1h = ecc::Scalar::new(num::BigInt::from(1)).unwrap().get_hex();\n",
    "let s2 = ecc::Scalar::new(num::BigInt::from(2)).unwrap();\n",
    "let s2h = ecc::Scalar::new(num::BigInt::from(2)).unwrap().get_hex();\n",
    "let result = s1 - s2;\n",
    "println!(\"{:?} - {:?} = {:?}\", s1h, s2h, result.unwrap().get_hex());"
   ]
  },
  {
   "cell_type": "markdown",
   "id": "8d9efb70-01df-4c2f-b704-1f37b2388ee6",
   "metadata": {},
   "source": [
    "## Scalar Multiplication"
   ]
  },
  {
   "cell_type": "code",
   "execution_count": null,
   "id": "53f26e80-df6f-41bb-af72-84371a94e691",
   "metadata": {},
   "outputs": [],
   "source": [
    "let s1 = ecc::Scalar::new(num::BigInt::from(2)).unwrap();\n",
    "let s1h = ecc::Scalar::new(num::BigInt::from(2)).unwrap().get_hex();\n",
    "let s2 = ecc::Scalar::new(num::BigInt::from(3)).unwrap();\n",
    "let s2h = ecc::Scalar::new(num::BigInt::from(3)).unwrap().get_hex();\n",
    "let result = s1 * s2;\n",
    "println!(\"{:?} * {:?} = {:?}\", s1h, s2h, result.unwrap().get_hex());"
   ]
  },
  {
   "cell_type": "markdown",
   "id": "bd2f1939-0292-41a0-be2b-75fb533d3d63",
   "metadata": {},
   "source": [
    "## Scalar Division\n",
    "\n",
    "> We have something like \"division\", but we do not use slash.\n",
    "> Instead, inversion (analogous to \"reciprocal\") is performed on the supposed\n",
    "> divisor, then perform multiplication.\n"
   ]
  },
  {
   "cell_type": "code",
   "execution_count": null,
   "id": "850ec8cb-3faa-4cf5-a2a8-ca591b5b6170",
   "metadata": {},
   "outputs": [],
   "source": [
    "let s1 = ecc::Scalar::new(num::BigInt::from(1)).unwrap();\n",
    "let s2 = ecc::Scalar::new(num::BigInt::from(2)).unwrap();\n",
    "let result = s1.divide(s2);\n",
    "println!(\"x * 1/x = {:?}\", result.unwrap().get_hex());"
   ]
  },
  {
   "cell_type": "markdown",
   "id": "38c8e4a5-1f86-4c90-9cde-4d353667e3ce",
   "metadata": {},
   "source": [
    "## Scalar Exponentiation"
   ]
  },
  {
   "cell_type": "code",
   "execution_count": null,
   "id": "d7b40eaf-9f5b-41a4-b9ae-a909698605b9",
   "metadata": {},
   "outputs": [],
   "source": [
    "// This library uses num::BigInt which only accepts usize for exponents\n",
    "let s1 = ecc::Scalar::new(num::BigInt::from(2)).unwrap();\n",
    "let s1h = ecc::Scalar::new(num::BigInt::from(2)).unwrap().get_hex();\n",
    "let s2 = ecc::Scalar::new(num::BigInt::from(3)).unwrap();\n",
    "let result = s1.pow(3);\n",
    "println!(\"{:?} * {:?} = {:?}\", s1h, 3, result.unwrap().get_hex());"
   ]
  },
  {
   "cell_type": "markdown",
   "id": "dff63a0d-9c81-4861-bd3a-b34867537743",
   "metadata": {},
   "source": [
    "## Random Scalar"
   ]
  },
  {
   "cell_type": "code",
   "execution_count": null,
   "id": "b9fa6c1a-41d5-45b6-9b34-5f30a10c171f",
   "metadata": {},
   "outputs": [],
   "source": [
    "let r = ecc::Scalar::random().unwrap();\n",
    "println!(\"{:?}\", r.get_hex());"
   ]
  },
  {
   "cell_type": "markdown",
   "id": "98181033-49aa-42c2-a761-b6ac2b02bcc6",
   "metadata": {},
   "source": [
    "> Differences #2: The elliptic curve points. These are actually points (x,y)\n",
    "  but the x and y are integers modulo another large (not necessarily prime)\n",
    "  number q. We usually do not initialize points like we initialize scalar. Instead, we use\n",
    "  the base generator.\n",
    ">\n",
    "> Reference: [crytpography stack exchange](https://crypto.stackexchange.com/questions/27392/base-point-in-ed25519)"
   ]
  },
  {
   "cell_type": "code",
   "execution_count": null,
   "id": "69c8de87-98e4-42b1-8712-0da389cf9f1d",
   "metadata": {},
   "outputs": [],
   "source": [
    "let g = ecc::Point::base_generator().unwrap();\n",
    "println!(\"G: {:?}\", g.get_hex());"
   ]
  },
  {
   "cell_type": "markdown",
   "id": "609a147e-7310-492f-ae0b-fab92a781c27",
   "metadata": {},
   "source": [
    "## Point Addition and Subtraction"
   ]
  },
  {
   "cell_type": "code",
   "execution_count": null,
   "id": "4fbefd8c-04fa-4d69-8ac0-af5fc6d97730",
   "metadata": {},
   "outputs": [],
   "source": [
    "let g1 = ecc::Point::base_generator().unwrap();\n",
    "let g2 = ecc::Point::base_generator().unwrap();\n",
    "let g3 = ecc::Point::base_generator().unwrap();\n",
    "let g4 = ecc::Point::base_generator().unwrap();\n",
    "let sum = g1 + g2;\n",
    "let diff = g3 - g4;\n",
    "println!(\"G + G = {:?}\", sum.unwrap().get_hex());\n",
    "println!(\"G - G = {:?}\", diff.unwrap().get_hex());"
   ]
  },
  {
   "cell_type": "markdown",
   "id": "bc4a7116-dcaf-49da-b668-8615cf70f6e0",
   "metadata": {},
   "source": [
    "## Zero Point \"Z\""
   ]
  },
  {
   "cell_type": "code",
   "execution_count": null,
   "id": "2a8645a1-f15b-4fe4-aa49-7f6a03c16c98",
   "metadata": {},
   "outputs": [],
   "source": [
    "let z = ecc::Point::zero().unwrap();\n",
    "println!(\"Z = {:?}\", z.get_hex());"
   ]
  },
  {
   "cell_type": "markdown",
   "id": "357b3ea7-7eab-4c6d-9c1f-d4a8772e162e",
   "metadata": {},
   "source": [
    "> \"Are G - G and Z the same?\""
   ]
  },
  {
   "cell_type": "code",
   "execution_count": null,
   "id": "08aeb258-78c9-46a6-a131-6e6bafd02926",
   "metadata": {},
   "outputs": [],
   "source": [
    "for i in 1..15 {\n",
    "    let g = ecc::Point::base_generator().unwrap();\n",
    "    let s = ecc::Scalar::new(num::BigInt::from(i)).unwrap();\n",
    "    let xG = g * s;\n",
    "    println!(\"{} * G: {:?}\", i, xG.unwrap().get_hex());\n",
    "}"
   ]
  },
  {
   "cell_type": "markdown",
   "id": "3c120660-7d3b-4253-ba74-6aa6ccbff575",
   "metadata": {},
   "source": [
    "> Those last points look \"random\". This IS a big reason why we use elliptic curves in cryptography:\n",
    "   \n",
    "> If I give you a random point P, it is assumed to be \n",
    "  impossible to find the x such that `P = xG`. The problem of finding x is called \"Discrete\n",
    "> Logarithm Problem\" (DLP) and the impossibility assumption is called Discrete Logarithm (DL)\n",
    "> assumption.\""
   ]
  },
  {
   "cell_type": "markdown",
   "id": "eb5f2444-0a65-4db4-895a-e5d9ba2a00d5",
   "metadata": {},
   "source": [
    "### exercise: what is (-1)G + G? "
   ]
  },
  {
   "cell_type": "code",
   "execution_count": null,
   "id": "2c7bc7b1-bd29-4c5d-bd22-ff400c729a96",
   "metadata": {},
   "outputs": [],
   "source": [
    "// code here"
   ]
  },
  {
   "cell_type": "markdown",
   "id": "06a10b75-0de0-4b6d-adc4-2007650c6a7a",
   "metadata": {},
   "source": [
    "### exercise: is Z == Z + random_point()?"
   ]
  },
  {
   "cell_type": "code",
   "execution_count": null,
   "id": "4034481f-37c5-4d02-bfea-2786f554a3ba",
   "metadata": {},
   "outputs": [],
   "source": [
    "// code here"
   ]
  },
  {
   "cell_type": "markdown",
   "id": "c01a470c-c02f-4357-8580-8700794b4f91",
   "metadata": {},
   "source": [
    "### cryptographic hash functions"
   ]
  },
  {
   "cell_type": "code",
   "execution_count": null,
   "id": "ee78fe1d-7810-49ec-a8ce-75eac36c354e",
   "metadata": {},
   "outputs": [],
   "source": [
    "// pass a vector of string slices\n",
    "let s1 = ecc::Scalar::new(num::BigInt::from(12)).unwrap();\n",
    "let s1_str = String::from(s1.get_hex());\n",
    "let v = vec![\"tutorial\", &s1_str];\n",
    "let s2 = ecc::hash_to_scalar(v).unwrap();\n",
    "println!(\"{:?}\", s2.get_hex());"
   ]
  },
  {
   "cell_type": "markdown",
   "id": "307177b5-d84e-4d70-95eb-a8ac1904f47c",
   "metadata": {},
   "source": [
    "### Exercise: the Diffie-Hellman (DH) key exchange\n",
    ">  Implement DH key exchange (just use variables):\n",
    "   Alice and Bob wants to share a secret scalar only they would know.\n",
    "   Using the generator G and hashing, how would they do it?\n",
    "   show that after the key exchange, Alice and Bob has a shared secret."
   ]
  },
  {
   "cell_type": "code",
   "execution_count": null,
   "id": "1ba6288d-f8b4-4c04-a723-13403e15394e",
   "metadata": {},
   "outputs": [],
   "source": [
    "// code here"
   ]
  },
  {
   "cell_type": "markdown",
   "id": "22bde429-f6c2-434c-b37c-df0b94229c55",
   "metadata": {},
   "source": [
    "### Exercise: implement Elgamal point encryption scheme.\n",
    "\n",
    "here's the scenario:\n",
    "  * Alice must send the point Y to Bob securely. Bob generates a random keypair `(x, xG)`.\n",
    "  * x is the private key, and `P = xG` is the public key to be shared to Alice. Alice encrypts\n",
    "  * Y using P, and sends the cipher to Bob. Bob then decrypts the cipher using x.\n",
    "\n",
    "just like in DH key exchange, just use variables.\n",
    "  * encryption: given a point Y and point P, it must output a pair `(rG, Y + rP)`where r is a random scalar.\n",
    "  * decryption: given a cipher pair (C1, C2) and a scalar x, output `Y = C2 - x * C1`.\n",
    "\n",
    "then demonstrate the homomorphicity of Elgamal encryption scheme. using\n",
    "  * two plaintexts `69000 * H and 420 * H`, encrypt both separately, then pairwise add the two ciphers,\n",
    "  * then decrypt the \"sum\" cipher. what is the decrypted plaintext? "
   ]
  },
  {
   "cell_type": "code",
   "execution_count": null,
   "id": "a89a5e17-8400-43d7-aefc-14312804f68d",
   "metadata": {},
   "outputs": [],
   "source": [
    "// code here"
   ]
  }
 ],
 "metadata": {
  "kernelspec": {
   "display_name": "Rust",
   "language": "rust",
   "name": "rust"
  },
  "language_info": {
   "codemirror_mode": "rust",
   "file_extension": ".rs",
   "mimetype": "text/rust",
   "name": "Rust",
   "pygment_lexer": "rust",
   "version": ""
  }
 },
 "nbformat": 4,
 "nbformat_minor": 5
}
