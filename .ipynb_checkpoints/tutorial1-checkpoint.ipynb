{
 "cells": [
  {
   "cell_type": "code",
   "execution_count": 3,
   "id": "1386a2f4-12cc-434e-bce3-5aa68e5cbfb9",
   "metadata": {},
   "outputs": [],
   "source": [
    "extern crate num;\n",
    "extern crate sha2;"
   ]
  },
  {
   "cell_type": "code",
   "execution_count": null,
   "id": "26fe2351-2307-4572-a9b6-02728aecaee0",
   "metadata": {},
   "outputs": [],
   "source": []
  }
 ],
 "metadata": {
  "kernelspec": {
   "display_name": "Rust",
   "language": "rust",
   "name": "rust"
  },
  "language_info": {
   "codemirror_mode": "rust",
   "file_extension": ".rs",
   "mimetype": "text/rust",
   "name": "Rust",
   "pygment_lexer": "rust",
   "version": ""
  }
 },
 "nbformat": 4,
 "nbformat_minor": 5
}
